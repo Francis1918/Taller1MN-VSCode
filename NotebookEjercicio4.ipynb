{
 "cells": [
  {
   "cell_type": "markdown",
   "id": "f60b436b",
   "metadata": {},
   "source": [
    "# Ejercio # 4\n",
    "$\\sum_{n=1}^{\\infty} \\frac{1}{n}$\n",
    "\n",
    "la serie no converge,en realidad diverge, por ello podemos concluir que la suma crece\n",
    "sin aparente limite hatsa el infinito\n",
    "\n",
    "A continaucion se presenta el codigo en Python de los primeros N términos de la serie para observar cómo crece:"
   ]
  },
  {
   "cell_type": "code",
   "execution_count": 1,
   "id": "48d2a931",
   "metadata": {},
   "outputs": [
    {
     "name": "stdout",
     "output_type": "stream",
     "text": [
      "Suma de los primeros 10000 términos de la serie armónica: 9.787606036044348\n"
     ]
    }
   ],
   "source": [
    "def suma_serie_armonica(N):\n",
    "    suma = 0.0\n",
    "    for n in range(1, N + 1):\n",
    "        suma += 1 / n\n",
    "    return suma\n",
    "\n",
    "# Ejemplo: sumar los primeros 10000 términos\n",
    "N = 10000\n",
    "resultado = suma_serie_armonica(N)\n",
    "print(f\"Suma de los primeros {N} términos de la serie armónica: {resultado}\")\n"
   ]
  },
  {
   "cell_type": "markdown",
   "id": "ae005a30",
   "metadata": {},
   "source": [
    "### 📘 Función `suma_serie_armonica(N)`\n",
    "\n",
    "La función `suma_serie_armonica(N)` calcula la suma de los primeros **N términos** de la **serie armónica**:\n",
    "\n",
    "$$\n",
    "\\sum_{n=1}^{N} \\frac{1}{n}\n",
    "$$\n",
    "\n",
    "### Funcionamiento\n",
    "\n",
    "- Cada elemento de la serie es:  \n",
    "  $$\n",
    "  \\frac{1}{n}\n",
    "  $$\n",
    "  donde \\( n \\) varía desde **1 hasta N**.\n",
    "\n",
    "- La suma se acumula en la variable `suma`.\n",
    "\n",
    "- Finalmente, se muestra el valor de la suma parcial, que **crece sin límite** a medida que \\( N \\to \\infty \\), es decir:\n",
    "\n",
    "$$\n",
    "\\lim_{N \\to \\infty} \\sum_{n=1}^{N} \\frac{1}{n} = \\infty\n",
    "$$\n",
    "\n",
    "\n",
    "\n",
    "\n"
   ]
  }
 ],
 "metadata": {
  "kernelspec": {
   "display_name": ".venv",
   "language": "python",
   "name": "python3"
  },
  "language_info": {
   "codemirror_mode": {
    "name": "ipython",
    "version": 3
   },
   "file_extension": ".py",
   "mimetype": "text/x-python",
   "name": "python",
   "nbconvert_exporter": "python",
   "pygments_lexer": "ipython3",
   "version": "3.13.3"
  }
 },
 "nbformat": 4,
 "nbformat_minor": 5
}
