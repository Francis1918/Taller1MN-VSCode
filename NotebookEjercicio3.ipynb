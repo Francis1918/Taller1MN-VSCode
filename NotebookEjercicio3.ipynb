{
 "cells": [
  {
   "metadata": {},
   "cell_type": "markdown",
   "source": [
    "# Ejercicio #3\n",
    "\n",
    "## Enunciado\n",
    "Realizar la implementación en Python del siguiente pseudocódigo:\n",
    "\n",
    "```plaintext\n",
    "1 procedure iterative (n: nonnegative integer)\n",
    "2 if n=0 then\n",
    "3     return 0\n",
    "4 else\n",
    "5     x := 0\n",
    "6     y := 1\n",
    "7     for i := 1 to n - 1\n",
    "8         z := x + y\n",
    "9         x := y\n",
    "10        y := z\n",
    "11    return y"
   ],
   "id": "4ef8b642af7b2fd8"
  },
  {
   "cell_type": "code",
   "id": "initial_id",
   "metadata": {
    "collapsed": true,
    "ExecuteTime": {
     "end_time": "2025-04-29T03:03:02.559122Z",
     "start_time": "2025-04-29T03:03:02.553344Z"
    }
   },
   "source": [
    "def iterative_fibonacci(n):\n",
    "    if n == 0:\n",
    "        return 0\n",
    "    else:\n",
    "        x = 0\n",
    "        y = 1\n",
    "        for i in range(1, n):\n",
    "            z = x + y\n",
    "            x = y\n",
    "            y = z\n",
    "        return y\n",
    "\n",
    "# Ejemplo de uso\n",
    "n = 11\n",
    "y = iterative_fibonacci(n)\n",
    "print(f\"El término {n} de la sucesión de Fibonacci es: {y}\")"
   ],
   "outputs": [
    {
     "name": "stdout",
     "output_type": "stream",
     "text": [
      "El término 11 de la sucesión de Fibonacci es: 89\n"
     ]
    }
   ],
   "execution_count": 2
  },
  {
   "metadata": {},
   "cell_type": "markdown",
   "source": "Ejercicio con datos dinamicos",
   "id": "e2cd9a46fc8d56e8"
  },
  {
   "metadata": {
    "ExecuteTime": {
     "end_time": "2025-04-29T03:26:44.641114Z",
     "start_time": "2025-04-29T03:26:41.255826Z"
    }
   },
   "cell_type": "code",
   "source": [
    "def iterative_fibonacci():\n",
    "    try:\n",
    "        n = int(input(\"Ingrese un número entero no negativo (n): \"))\n",
    "        if n < 0:\n",
    "            raise ValueError(\"El número debe ser no negativo.\")\n",
    "        if n == 0:\n",
    "            print(\"El término 0 de la sucesión de Fibonacci es: 0\")\n",
    "            return\n",
    "        x = 0\n",
    "        y = 1\n",
    "        for i in range(1, n):\n",
    "            z = x + y\n",
    "            x = y\n",
    "            y = z\n",
    "        print(f\"El término {n} de la sucesión de Fibonacci es: {y}\")\n",
    "    except ValueError as e:\n",
    "        print(f\"Error: {e}\")\n",
    "\n",
    "if __name__ == \"__main__\":\n",
    "    iterative_fibonacci()"
   ],
   "id": "527fc18e4453faa6",
   "outputs": [
    {
     "name": "stdout",
     "output_type": "stream",
     "text": [
      "El término 11 de la sucesión de Fibonacci es: 89\n"
     ]
    }
   ],
   "execution_count": 3
  }
 ],
 "metadata": {
  "kernelspec": {
   "display_name": "Python 3",
   "language": "python",
   "name": "python3"
  },
  "language_info": {
   "codemirror_mode": {
    "name": "ipython",
    "version": 2
   },
   "file_extension": ".py",
   "mimetype": "text/x-python",
   "name": "python",
   "nbconvert_exporter": "python",
   "pygments_lexer": "ipython2",
   "version": "2.7.6"
  }
 },
 "nbformat": 4,
 "nbformat_minor": 5
}
