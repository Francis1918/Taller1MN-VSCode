{
 "cells": [
  {
   "cell_type": "markdown",
   "id": "4ef8b642af7b2fd8",
   "metadata": {},
   "source": [
    "# Ejercicio #3\n",
    "\n",
    "## Enunciado\n",
    "Realizar la implementación en Python del siguiente pseudocódigo:\n",
    "\n",
    "```plaintext\n",
    "1 procedure iterative (n: nonnegative integer)\n",
    "2 if n=0 then\n",
    "3     return 0\n",
    "4 else\n",
    "5     x := 0\n",
    "6     y := 1\n",
    "7     for i := 1 to n - 1\n",
    "8         z := x + y\n",
    "9         x := y\n",
    "10        y := z\n",
    "11    return y"
   ]
  },
  {
   "cell_type": "code",
   "execution_count": 2,
   "id": "initial_id",
   "metadata": {
    "ExecuteTime": {
     "end_time": "2025-04-29T03:03:02.559122Z",
     "start_time": "2025-04-29T03:03:02.553344Z"
    },
    "collapsed": true
   },
   "outputs": [
    {
     "name": "stdout",
     "output_type": "stream",
     "text": [
      "El término 11 de la sucesión de Fibonacci es: 89\n"
     ]
    }
   ],
   "source": [
    "def iterative_fibonacci(n):\n",
    "    if n == 0:\n",
    "        return 0\n",
    "    else:\n",
    "        x = 0\n",
    "        y = 1\n",
    "        for i in range(1, n):\n",
    "            z = x + y\n",
    "            x = y\n",
    "            y = z\n",
    "        return y\n",
    "\n",
    "# Ejemplo de uso\n",
    "n = 11\n",
    "y = iterative_fibonacci(n)\n",
    "print(f\"El término {n} de la sucesión de Fibonacci es: {y}\")"
   ]
  },
  {
   "cell_type": "markdown",
   "id": "e2cd9a46fc8d56e8",
   "metadata": {},
   "source": [
    "Ejercicio con datos dinamicos"
   ]
  },
  {
   "cell_type": "code",
   "execution_count": 1,
   "id": "527fc18e4453faa6",
   "metadata": {
    "ExecuteTime": {
     "end_time": "2025-04-29T03:26:44.641114Z",
     "start_time": "2025-04-29T03:26:41.255826Z"
    }
   },
   "outputs": [
    {
     "name": "stdout",
     "output_type": "stream",
     "text": [
      "El término 5 de la sucesión de Fibonacci es: 5\n"
     ]
    }
   ],
   "source": [
    "def iterative_fibonacci():\n",
    "    try:\n",
    "        n = int(input(\"Ingrese un número entero no negativo (n): \"))\n",
    "        if n < 0:\n",
    "            raise ValueError(\"El número debe ser no negativo.\")\n",
    "        if n == 0:\n",
    "            print(\"El término 0 de la sucesión de Fibonacci es: 0\")\n",
    "            return\n",
    "        x = 0\n",
    "        y = 1\n",
    "        for i in range(1, n):\n",
    "            z = x + y\n",
    "            x = y\n",
    "            y = z\n",
    "        print(f\"El término {n} de la sucesión de Fibonacci es: {y}\")\n",
    "    except ValueError as e:\n",
    "        print(f\"Error: {e}\")\n",
    "\n",
    "if __name__ == \"__main__\":\n",
    "    iterative_fibonacci()"
   ]
  }
 ],
 "metadata": {
  "kernelspec": {
   "display_name": ".venv",
   "language": "python",
   "name": "python3"
  },
  "language_info": {
   "codemirror_mode": {
    "name": "ipython",
    "version": 3
   },
   "file_extension": ".py",
   "mimetype": "text/x-python",
   "name": "python",
   "nbconvert_exporter": "python",
   "pygments_lexer": "ipython3",
   "version": "3.13.3"
  }
 },
 "nbformat": 4,
 "nbformat_minor": 5
}
