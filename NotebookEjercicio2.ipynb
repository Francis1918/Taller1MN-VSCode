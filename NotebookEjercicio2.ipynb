{
 "cells": [
  {
   "cell_type": "markdown",
   "id": "fc89f7d0",
   "metadata": {},
   "source": [
    "# Ejercicio #2\n",
    "\n",
    "La imagen que se muestra es una version optimizada del algoritmo *bubble sort*, ya que si no se reslaiza una\n",
    "pasada completa no se realiza ningun intercambio.\n",
    "\n",
    "A continuacion la implementacion de algoritmo en **python** :\n"
   ]
  },
  {
   "cell_type": "code",
   "execution_count": null,
   "id": "2ae4788f",
   "metadata": {},
   "outputs": [],
   "source": [
    "def bubble_sort(a):\n",
    "    n = len(a)\n",
    "    for i in range(n):\n",
    "        swapped = False\n",
    "        for j in range(1, n - i):\n",
    "            if a[j] < a[j - 1]:\n",
    "                a[j], a[j - 1] = a[j - 1], a[j]\n",
    "                swapped = True\n",
    "        if not swapped:\n",
    "            break\n",
    "    return a\n",
    "\n",
    "# Ejemplo de uso\n",
    "arr = [5, 2, 9, 1, 5, 6]\n",
    "ordenado = bubble_sort(arr)\n",
    "print(\"Arreglo ordenado:\", ordenado)"
   ]
  }
 ],
 "metadata": {
  "language_info": {
   "name": "python"
  }
 },
 "nbformat": 4,
 "nbformat_minor": 5
}
