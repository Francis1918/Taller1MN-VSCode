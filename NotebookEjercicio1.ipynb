{
 "cells": [
  {
   "cell_type": "markdown",
   "id": "2fbdc904",
   "metadata": {},
   "source": [
    "Ejercicio 1\n",
    "integrantes: Francis Bravo, Michael Yanez"
   ]
  },
  {
   "cell_type": "markdown",
   "id": "e20311e1",
   "metadata": {},
   "source": []
  }
 ],
 "metadata": {
  "language_info": {
   "name": "python"
  }
 },
 "nbformat": 4,
 "nbformat_minor": 5
}
