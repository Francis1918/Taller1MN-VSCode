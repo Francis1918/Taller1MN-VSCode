{
 "cells": [
  {
   "metadata": {},
   "cell_type": "markdown",
   "source": [
    "# **Taller 1**\n",
    "\n",
    "**Integrantes:**\n",
    "- Francis Bravo\n",
    "- Michael Yanez\n",
    "\n",
    "---\n",
    "\n",
    "## **Ejercicio #1**\n",
    "\n",
    "### **Implementación del primer algoritmo**\n",
    "\n",
    "#### **Caso de prueba #1**\n",
    "```python\n",
    "# Ejercicio #1\n",
    "def alg_01(N, X):\n",
    "    SUM = 0\n",
    "    for i in range(N):\n",
    "        SUM += X[i]\n",
    "    print(\"La suma es:\", SUM)\n",
    "\n",
    "# Caso de prueba\n",
    "if __name__ == \"__main__\":\n",
    "    X = range(100)\n",
    "    alg_01(len(X), X)**Taller 1 Integrantes:Francis Bravo, Michael Yanez*"
   ],
   "id": "5cd15cdfc9e9c9fe"
  },
  {
   "metadata": {
    "ExecuteTime": {
     "end_time": "2025-04-29T00:52:33.612364Z",
     "start_time": "2025-04-29T00:52:33.608816Z"
    }
   },
   "cell_type": "code",
   "source": "#implementacion del primer algoritmo",
   "id": "cc0f845d5df3eeb4",
   "outputs": [
    {
     "name": "stdout",
     "output_type": "stream",
     "text": [
      "Hola Mundo\n"
     ]
    }
   ],
   "execution_count": 3
  },
  {
   "metadata": {},
   "cell_type": "markdown",
   "source": "Caso de prueba #1",
   "id": "7763a900826a4b3"
  },
  {
   "metadata": {
    "ExecuteTime": {
     "end_time": "2025-04-29T02:22:38.171699Z",
     "start_time": "2025-04-29T02:22:38.164986Z"
    }
   },
   "cell_type": "code",
   "source": [
    "# Ejercicio #1\n",
    "def alg_01(N, X):\n",
    "    SUM = 0\n",
    "    for i in range(N):\n",
    "        SUM += X[i]\n",
    "    print(\"La suma es:\", SUM)\n",
    "\n",
    "# Caso de prueba\n",
    "if __name__ == \"__main__\":\n",
    "    X = range(100)\n",
    "    alg_01(len(X), X)\n"
   ],
   "id": "e8266073448248ea",
   "outputs": [
    {
     "name": "stdout",
     "output_type": "stream",
     "text": [
      "La suma es: 4950\n"
     ]
    }
   ],
   "execution_count": 4
  },
  {
   "metadata": {},
   "cell_type": "markdown",
   "source": "Caso de prueba #2",
   "id": "5f2c3d40e1bfa8d8"
  },
  {
   "metadata": {
    "ExecuteTime": {
     "end_time": "2025-04-29T02:25:35.523637Z",
     "start_time": "2025-04-29T02:25:35.519507Z"
    }
   },
   "cell_type": "code",
   "source": [
    "# Ejercicio #1\n",
    "def alg_01(N, X):\n",
    "    SUM = 0\n",
    "    for i in range(N):\n",
    "        SUM += X[i]\n",
    "    print(\"La suma es:\", SUM)\n",
    "\n",
    "# Casos de prueba\n",
    "if __name__ == \"__main__\":\n",
    "    X = [1, 1/2, 1/4]\n",
    "    alg_01(len(X), X)"
   ],
   "id": "b7192388eb9c28d9",
   "outputs": [
    {
     "name": "stdout",
     "output_type": "stream",
     "text": [
      "La suma es: 1.75\n"
     ]
    }
   ],
   "execution_count": 6
  },
  {
   "metadata": {},
   "cell_type": "markdown",
   "source": "Ejercicio con datos dinamicos",
   "id": "977b33401c5e7b4f"
  },
  {
   "metadata": {
    "ExecuteTime": {
     "end_time": "2025-04-29T02:34:11.201133Z",
     "start_time": "2025-04-29T02:33:53.995739Z"
    }
   },
   "cell_type": "code",
   "source": [
    "#Ejercicio #1\n",
    "#version datos dinamicos\n",
    "# Ejercicio #1\n",
    "def sumar_numeros():\n",
    "    try:\n",
    "        N = int(input(\"Ingrese la cantidad de números (N): \"))\n",
    "        if N <= 0:\n",
    "            raise ValueError(\"El número debe ser mayor que 0.\")\n",
    "        SUM = 0\n",
    "        for i in range(N):\n",
    "            while True:\n",
    "                try:\n",
    "                    x = float(input(f\"Ingrese x_{i+1}: \"))\n",
    "                    break\n",
    "                except ValueError:\n",
    "                    print(\"Por favor, ingrese un número válido.\")\n",
    "            SUM += x\n",
    "        print(\"La suma es:\", SUM)\n",
    "    except ValueError as e:\n",
    "        print(f\"Error: {e}\")\n",
    "\n",
    "def main():\n",
    "    try:\n",
    "        sumar_numeros()\n",
    "    except Exception as e:\n",
    "        print(f\"Se produjo un error inesperado: {e}\")\n",
    "\n",
    "if __name__ == \"__main__\":\n",
    "    main()"
   ],
   "id": "94aecef16ecfc606",
   "outputs": [
    {
     "name": "stdout",
     "output_type": "stream",
     "text": [
      "La suma es: 10.141601\n"
     ]
    }
   ],
   "execution_count": 7
  },
  {
   "metadata": {},
   "cell_type": "markdown",
   "source": "Resolucion del ejercicio 1",
   "id": "600575a9888f52ab"
  },
  {
   "metadata": {
    "ExecuteTime": {
     "end_time": "2025-04-29T02:37:24.667580Z",
     "start_time": "2025-04-29T02:37:24.648251Z"
    }
   },
   "cell_type": "code",
   "source": [
    "# Ejercicio #1\n",
    "def alg_01(N, X):\n",
    "    try:\n",
    "        if N <= 0:\n",
    "            raise ValueError(\"El número de elementos debe ser mayor que 0.\")\n",
    "        SUM = 0\n",
    "        for i in range(N):\n",
    "            SUM += X[i]\n",
    "        print(\"La suma es:\", SUM)\n",
    "        return SUM\n",
    "    except IndexError:\n",
    "        print(\"Error: El índice está fuera del rango de la lista.\")\n",
    "    except Exception as e:\n",
    "        print(f\"Se produjo un error inesperado: {e}\")\n",
    "\n",
    "# Casos de prueba\n",
    "if __name__ == \"__main__\":\n",
    "    X = [1/2**x for x in range(15)]\n",
    "    print(X)\n",
    "    r = alg_01(len(X), X)\n",
    "    print(r)\n",
    "    print(f\"{2-r}\")"
   ],
   "id": "dfa87ec9fce869b3",
   "outputs": [
    {
     "name": "stdout",
     "output_type": "stream",
     "text": [
      "[1.0, 0.5, 0.25, 0.125, 0.0625, 0.03125, 0.015625, 0.0078125, 0.00390625, 0.001953125, 0.0009765625, 0.00048828125, 0.000244140625, 0.0001220703125, 6.103515625e-05]\n",
      "La suma es: 1.99993896484375\n",
      "1.99993896484375\n",
      "6.103515625e-05\n"
     ]
    }
   ],
   "execution_count": 8
  },
  {
   "metadata": {},
   "cell_type": "code",
   "outputs": [],
   "execution_count": null,
   "source": "",
   "id": "78696c635b1bd9fe"
  }
 ],
 "metadata": {
  "kernelspec": {
   "display_name": "Python 3",
   "language": "python",
   "name": "python3"
  },
  "language_info": {
   "codemirror_mode": {
    "name": "ipython",
    "version": 2
   },
   "file_extension": ".py",
   "mimetype": "text/x-python",
   "name": "python",
   "nbconvert_exporter": "python",
   "pygments_lexer": "ipython2",
   "version": "2.7.6"
  }
 },
 "nbformat": 4,
 "nbformat_minor": 5
}
